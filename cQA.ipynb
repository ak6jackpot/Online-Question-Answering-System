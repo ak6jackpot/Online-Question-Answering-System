{
 "cells": [
  {
   "cell_type": "code",
   "execution_count": 1,
   "metadata": {},
   "outputs": [],
   "source": [
    "from bs4 import BeautifulSoup \n",
    "\n",
    "# Reading the data inside the xml file to a variable under the name  data\n",
    "with open('20100221103805AA0mYkY.xml', 'r') as f:\n",
    "    data = f.read() \n",
    "\n",
    "# Passing the stored data inside the beautifulsoup parser \n",
    "bs_data = BeautifulSoup(data, 'xml')"
   ]
  },
  {
   "cell_type": "code",
   "execution_count": 3,
   "metadata": {},
   "outputs": [
    {
     "name": "stdout",
     "output_type": "stream",
     "text": [
      "<Subject>Apart from eBay &amp; Amazon, what UK online seller sites are there?</Subject>\n",
      "<ChosenAnswer>Play.com</ChosenAnswer>\n"
     ]
    }
   ],
   "source": [
    "b_sub = bs_data.find('Subject')\n",
    "b_ans = bs_data.find('ChosenAnswer')  \n",
    "print(b_sub)\n",
    "print(b_ans)"
   ]
  },
  {
   "cell_type": "code",
   "execution_count": null,
   "metadata": {},
   "outputs": [],
   "source": []
  }
 ],
 "metadata": {
  "kernelspec": {
   "display_name": "Python 3",
   "language": "python",
   "name": "python3"
  },
  "language_info": {
   "codemirror_mode": {
    "name": "ipython",
    "version": 3
   },
   "file_extension": ".py",
   "mimetype": "text/x-python",
   "name": "python",
   "nbconvert_exporter": "python",
   "pygments_lexer": "ipython3",
   "version": "3.8.5"
  }
 },
 "nbformat": 4,
 "nbformat_minor": 4
}
